{
 "cells": [
  {
   "cell_type": "code",
   "execution_count": 1,
   "id": "20e0ce76-371a-4a7a-8dea-fead8bd2c9f0",
   "metadata": {},
   "outputs": [],
   "source": [
    "catalog = { \"Product A\": 20,\"Product B\": 40,\"Product C\": 50}"
   ]
  },
  {
   "cell_type": "code",
   "execution_count": 2,
   "id": "c15f3d42-7ee8-4731-b21c-0dc83813cdfc",
   "metadata": {},
   "outputs": [],
   "source": [
    "quantities = {}\n",
    "gift_wraps = {}"
   ]
  },
  {
   "cell_type": "code",
   "execution_count": 3,
   "id": "670f1271-dff8-4c4d-9bd3-af324e89b855",
   "metadata": {
    "tags": []
   },
   "outputs": [
    {
     "name": "stdin",
     "output_type": "stream",
     "text": [
      "Enter the quantity of Product A:  4\n",
      "Wrap Product A as a gift?(yes/no):  no\n",
      "Enter the quantity of Product B:  7\n",
      "Wrap Product B as a gift?(yes/no):  yes\n",
      "Enter the quantity of Product C:  2\n",
      "Wrap Product C as a gift?(yes/no):  yes\n"
     ]
    }
   ],
   "source": [
    "for product in catalog:\n",
    "    quantities[product]=int(input(f\"Enter the quantity of {product}: \"))\n",
    "    gift_wraps[product]=input(f\"Wrap {product} as a gift?(yes/no): \").lower()==\"yes\""
   ]
  },
  {
   "cell_type": "code",
   "execution_count": 4,
   "id": "d5725b2a-bf93-480d-954f-74d0c569f351",
   "metadata": {},
   "outputs": [],
   "source": [
    "subtotal=sum(catalog[product]*quantities[product] for product in catalog)"
   ]
  },
  {
   "cell_type": "code",
   "execution_count": 5,
   "id": "3caa0e45-ddf3-45eb-b825-3e021331b9a5",
   "metadata": {},
   "outputs": [],
   "source": [
    "discount_rules={\"flat_10_discount\": subtotal>200,\n",
    "                \"bulk_5_discount\": any(quantity>10 for quantity in quantities.values()),\n",
    "                \"bulk_10_discount\": sum(quantities.values())>20,\n",
    "                \"tiered_50_discount\": sum(quantities.values())>30 and any(quantity>15 for quantity in quantities.values())}"
   ]
  },
  {
   "cell_type": "code",
   "execution_count": 6,
   "id": "39e8ad2b-ea3d-4dce-94b0-3cdd2ef9d2dc",
   "metadata": {},
   "outputs": [],
   "source": [
    "discount_name=max(discount_rules,key=discount_rules.get)\n",
    "discount_amount=0\n",
    "if discount_rules[discount_name]:\n",
    "    if discount_name==\"flat_10_discount\":\n",
    "        discount_amount=10\n",
    "    elif discount_name==\"bulk_5_discount\":\n",
    "        discount_amount=max(catalog[product]*quntities[product]*0.05 for product in catalog if quantities[product]>10)\n",
    "    elif discount_name==\"bulk_10_discount\":\n",
    "        discount_amount=subtotal*0.1\n",
    "    elif discount_name==\"tiered_50_discount\":\n",
    "        discount_amount=sum((quantity-15)*catalog[product]*0.5 for product,quantity in quantities.item() if quantity>15)\n",
    "                            "
   ]
  },
  {
   "cell_type": "code",
   "execution_count": 7,
   "id": "b8d17cf9-5810-4607-b800-b20a24d1656f",
   "metadata": {},
   "outputs": [],
   "source": [
    "gift_wrap_fee=sum(quantities.values())"
   ]
  },
  {
   "cell_type": "code",
   "execution_count": 8,
   "id": "d48c3f13-1982-4159-9112-722ccdf0e43a",
   "metadata": {},
   "outputs": [],
   "source": [
    "shipping_fee=(sum(quantities.values())//10)*5"
   ]
  },
  {
   "cell_type": "code",
   "execution_count": 10,
   "id": "1f1fcd68-07ed-45a7-ad32-e79d8c17d210",
   "metadata": {},
   "outputs": [],
   "source": [
    "total=subtotal-discount_amount+gift_wrap_fee+shipping_fee"
   ]
  },
  {
   "cell_type": "code",
   "execution_count": 14,
   "id": "56b0297f-5831-4afa-bc9a-ebf0d16a76e8",
   "metadata": {},
   "outputs": [
    {
     "name": "stdout",
     "output_type": "stream",
     "text": [
      "Product Details:\n",
      "Product A:quantity:4,Total:80\n",
      "Product B:quantity:7,Total:280\n",
      "Product C:quantity:2,Total:100\n",
      "\n",
      "Subtotal:460\n",
      "Discount Applied:flat_10_discount,Amount:10\n",
      "Shipping Fee:5\n",
      "Gift Wrap Fee:13\n",
      "Total:468\n"
     ]
    }
   ],
   "source": [
    "print(\"Product Details:\")\n",
    "for product in catalog:\n",
    "    total_amount=catalog[product]*quantities[product]\n",
    "    print(f\"{product}:quantity:{quantities[product]},Total:{total_amount}\")\n",
    "print(f\"\\nSubtotal:{subtotal}\")\n",
    "print(f\"Discount Applied:{discount_name},Amount:{discount_amount}\")\n",
    "print(f\"Shipping Fee:{shipping_fee}\")\n",
    "print(f\"Gift Wrap Fee:{gift_wrap_fee}\")\n",
    "print(f\"Total:{total}\")"
   ]
  },
  {
   "cell_type": "code",
   "execution_count": null,
   "id": "0f83e00e-6854-4387-8f74-d6ab9ca31a1e",
   "metadata": {},
   "outputs": [],
   "source": []
  }
 ],
 "metadata": {
  "kernelspec": {
   "display_name": "Python 3 (ipykernel)",
   "language": "python",
   "name": "python3"
  },
  "language_info": {
   "codemirror_mode": {
    "name": "ipython",
    "version": 3
   },
   "file_extension": ".py",
   "mimetype": "text/x-python",
   "name": "python",
   "nbconvert_exporter": "python",
   "pygments_lexer": "ipython3",
   "version": "3.9.13"
  }
 },
 "nbformat": 4,
 "nbformat_minor": 5
}
